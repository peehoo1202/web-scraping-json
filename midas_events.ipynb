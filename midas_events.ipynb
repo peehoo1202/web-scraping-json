{
 "cells": [
  {
   "cell_type": "code",
   "execution_count": 1,
   "metadata": {},
   "outputs": [],
   "source": [
    "import urllib.request\n",
    "import json"
   ]
  },
  {
   "cell_type": "code",
   "execution_count": 2,
   "metadata": {},
   "outputs": [],
   "source": [
    "website=\"http://midas.iiitd.edu.in/events/\"\n"
   ]
  },
  {
   "cell_type": "code",
   "execution_count": 3,
   "metadata": {},
   "outputs": [
    {
     "name": "stdout",
     "output_type": "stream",
     "text": [
      "\n",
      "<!DOCTYPE html>\n",
      "\n",
      "<html lang=\"en\">\n",
      "<head>\n",
      "<meta charset=\"utf-8\"/>\n",
      "<meta content=\"IE=edge\" http-equiv=\"X-UA-Compatible\"/>\n",
      "<title>Events</title>\n",
      "<meta content=\"Events organized by lab\" name=\"description\"/>\n",
      "<meta content=\"Hitkul\" name=\"author\"/>\n",
      "<!-- Enable responsive viewport -->\n",
      "<meta content=\"width=device-width, initial-scale=1.0\" name=\"viewport\">\n",
      "<!-- Bootstrap styles -->\n",
      "<link href=\"/assets/themes/lab/bootstrap/css/bootstrap.min.css\" rel=\"stylesheet\"/>\n",
      "<!-- Optional theme -->\n",
      "<link href=\"/assets/themes/lab/bootstrap/css/bootstrap-theme.min.css\" rel=\"stylesheet\"/>\n",
      "<!-- Sticky Footer -->\n",
      "<link href=\"/assets/themes/lab/bootstrap/css/bs-sticky-footer.css\" rel=\"stylesheet\"/>\n",
      "<!-- Custom styles -->\n",
      "<link href=\"/assets/themes/lab/css/style.css?body=1\" media=\"all\" rel=\"stylesheet\" type=\"text/css\"/>\n",
      "<!-- icon -->\n",
      "<link href=\"/assets/themes/lab/images/logo/LOGO.png\" rel=\"shortcut icon\"/>\n",
      "<!-- Custom fonts and icons via Font Awesome, http://fortawesome.github.io/Font-Awesome/ -->\n",
      "<link href=\"//maxcdn.bootstrapcdn.com/font-awesome/4.3.0/css/font-awesome.min.css\" rel=\"stylesheet\"/>\n",
      "<!-- Fonts via Google -->\n",
      "<link href=\"http://fonts.googleapis.com/css?family=Lato:300italic,700italic,300,700\" rel=\"stylesheet\" type=\"text/css\"/>\n",
      "<!-- Math via MathJax -->\n",
      "<script src=\"http://cdn.mathjax.org/mathjax/latest/MathJax.js?config=TeX-AMS-MML_HTMLorMML\" type=\"text/javascript\"></script>\n",
      "<!-- HTML5 Shim and Respond.js IE8 support of HTML5 elements and media queries -->\n",
      "<!-- WARNING: Respond.js doesn't work if you view the page via file:// -->\n",
      "<!--[if lt IE 9]>\n",
      "      <script src=\"https://oss.maxcdn.com/libs/html5shiv/3.7.0/html5shiv.js\"></script>\n",
      "      <script src=\"https://oss.maxcdn.com/libs/respond.js/1.3.0/respond.min.js\"></script>\n",
      "    <![endif]-->\n",
      "<!-- Fav and touch icons -->\n",
      "<!-- Update these with your own images\n",
      "      <link rel=\"shortcut icon\" href=\"images/favicon.ico\">\n",
      "      <link rel=\"apple-touch-icon\" href=\"images/apple-touch-icon.png\">\n",
      "      <link rel=\"apple-touch-icon\" sizes=\"72x72\" href=\"images/apple-touch-icon-72x72.png\">\n",
      "      <link rel=\"apple-touch-icon\" sizes=\"114x114\" href=\"images/apple-touch-icon-114x114.png\">\n",
      "    -->\n",
      "<!-- atom & rss feed\n",
      "    <link href=\"/atom.xml\" type=\"application/atom+xml\" rel=\"alternate\" title=\"Sitewide ATOM Feed\">\n",
      "    <link href=\"/rss.xml\" type=\"application/rss+xml\" rel=\"alternate\" title=\"Sitewide RSS Feed\">\n",
      "    -->\n",
      "</meta></head>\n",
      "<body>\n",
      "<!-- Static top navbar -->\n",
      "<nav class=\"navbar navbar-default navbar-fixed-top\" role=\"navigation\">\n",
      "<div class=\"container\">\n",
      "<!-- Brand and toggle get grouped for better mobile display -->\n",
      "<div class=\"navbar-header\">\n",
      "<button class=\"navbar-toggle\" data-target=\"#jb-navbar-collapse\" data-toggle=\"collapse\" type=\"button\">\n",
      "<span class=\"sr-only\">Toggle navigation</span>\n",
      "<span class=\"icon-bar\"></span>\n",
      "<span class=\"icon-bar\"></span>\n",
      "<span class=\"icon-bar\"></span>\n",
      "</button>\n",
      "<a href=\"/\">\n",
      "<img class=\"pull-left logo\" src=\"/assets/themes/lab/images/logo/LOGO.png\" type=\"image/svg+xml\"/>\n",
      "</a>\n",
      "</div>\n",
      "<!-- Collect the nav links, forms, and other content for toggling -->\n",
      "<div class=\"collapse navbar-collapse\" id=\"jb-navbar-collapse\">\n",
      "<ul class=\"nav navbar-nav navbar-left hidden-sm\">\n",
      "<!-- Don't put site title on home page -- there's already a big title there. -->\n",
      "<a class=\"navbar-brand\" href=\"/\">MIDAS@IIITD</a>\n",
      "</ul>\n",
      "<ul class=\"nav navbar-nav navbar-right pull-right\">\n",
      "<li><a href=\"/projects/\">Research</a></li>\n",
      "<li><a href=\"/team/\">Team</a></li>\n",
      "<li><a href=\"/papers/\">Papers</a></li>\n",
      "<li><a href=\"/blog/\">Blog</a></li>\n",
      "<li><a href=\"/openings/\">Openings</a></li>\n",
      "<li class=\"dropdown nav navbar-nav\">\n",
      "<a aria-expanded=\"false\" class=\"dropdown-toggle\" data-toggle=\"dropdown\" href=\"#\" role=\"button\">\n",
      "              More <span class=\"caret\"></span>\n",
      "</a>\n",
      "<ul class=\"dropdown-menu nav navbar-nav\" role=\"menu\">\n",
      "<li><a href=\"/news/\">News</a></li>\n",
      "<li class=\"active\"><a class=\"active\" href=\"/events/\">Events</a></li>\n",
      "</ul>\n",
      "</li>\n",
      "</ul>\n",
      "</div><!-- /.navbar-collapse -->\n",
      "</div></nav>\n",
      "</body></html>\n",
      "<!-- Content -->\n",
      "<div class=\"container\">\n",
      "<div class=\"bigspacer\"></div>\n",
      "<div class=\"title\">\n",
      "<hr/>\r\n",
      "    Events organized by MIDAS@IIITD\r\n",
      "  <hr/>\n",
      "</div>\n",
      "<div class=\"bigspacer\"></div>\n",
      "<div class=\"row\">\n",
      "<!--   \r\n",
      "  <div class='row'>\r\n",
      "    <div class='col-md-12'>\r\n",
      "    <div class=\"media\">\r\n",
      "      <a class=\"project-image\" href=\"\">\r\n",
      "        <img class=\"media-object\" src=\"\">\r\n",
      "      </a>\r\n",
      "    </div>\r\n",
      "  </div>\r\n",
      "  -->\n",
      "<div class=\"row\">\n",
      "<div class=\"col-md-4 paperbox\">\n",
      "<div class=\"head media-heading\"><a href=\"http://mr2amc.midas.iiitd.edu.in/ism/\">MR2AMC</a></div>\n",
      "</div>\n",
      "<div align=\"justify\" class=\"col-md-8\">\n",
      "<p>MR2AMC is a series of workshops on Multimodal Representation, Retrieval, and Analysis of Multimedia Content organized by the MIDAS lab in IIIT-Delhi. MIDAS stands for Multimodal Digital Media Analysis Lab and it consists a group of researchers who study, analyze, and build different multimedia systems for society leveraging multimodal information. The first iteration of the workshop held in conjunction with the IEEE MIPR conference. The second iteration of the workshop will be held in conjunction with the 20th IEEE International Conference on Multimedia in Taichung, Taiwan. This year’s workshop theme is social media. Thus, MR2AMC aims to provide an international forum for researchers in the field of multimedia data processing, analysis, search, mining, and management leveraging multimodal information in social media. This workshop will provide a forum to researchers and practitioners from both academia and industry for original research contributions and practical system design, implementation, and applications of multimodal multimedia information processing, mining, representation, management, and retrieval. MR2AMC 2018 invites research papers in the area of multimodal multimedia content analysis, search and retrieval, semantic computing, and affective computing. Accepted papers of MR2AMC 2018 will be published as part of the workshop proceedings in the IEEE Digital Library. Extended versions of the accepted workshop papers will be invited for publication in <a href=\"https://link.springer.com/journal/12559\">Springer Cognitive Computation</a> and <a href=\"https://ieeexplore.ieee.org/xpl/RecentIssue.jsp?punumber=10207\">IEEE Computational Intelligence Magazine</a>.</p>\n",
      "</div>\n",
      "</div>\n",
      "</div>\n",
      "<div class=\"bigspacer\"></div>\n",
      "<div class=\"bigspacer\"></div>\n",
      "</div>\n",
      "<!-- Static bottom navbar -->\n",
      "<nav class=\"navbar navbar-default navbar-fixed-bottom\">\n",
      "<div class=\"container\">\n",
      "<div class=\"navbar-header\">\n",
      "<button class=\"navbar-toggle\" data-target=\"#jb-bottom-collapse\" data-toggle=\"collapse\" type=\"button\"> <!-- NOTE! data-target was changed to jb-bottom-collapse -->\n",
      "<span class=\"icon-bar\"></span>\n",
      "<span class=\"icon-bar\"></span>\n",
      "<span class=\"icon-bar\"></span>\n",
      "</button>\n",
      "</div>\n",
      "<!-- Collect the nav links, forms, and other content for toggling -->\n",
      "<div class=\"collapse navbar-collapse\" id=\"jb-bottom-collapse\">\n",
      "<ul class=\"nav navbar-nav navbar-left navbar-small\">\n",
      "<li><a href=\"\"></a></li>\n",
      "<li><a href=\"http://iiitd.ac.in\">Indraprastha Institute of Information Technology, Delhi</a></li>\n",
      "</ul>\n",
      "<ul class=\"nav navbar-nav navbar-right navbar-small\">\n",
      "<li><a href=\"/about.html#purpose\">About</a></li>\n",
      "<!-- <li><a href='/about.html#join'>Join</a></li> -->\n",
      "<li><a href=\"/about.html#contact\">Contact</a></li>\n",
      "</ul>\n",
      "</div><!-- /.navbar-collapse -->\n",
      "</div>\n",
      "</nav>\n",
      "<!-- Latest compiled and minified JavaScript, requires jQuery 1.x (2.x not supported in IE8) -->\n",
      "<!-- Placed at the end of the document so the pages load faster -->\n",
      "<script src=\"https://ajax.googleapis.com/ajax/libs/jquery/1.10.2/jquery.min.js\"></script>\n",
      "<script src=\"/assets/themes/lab/bootstrap/js/bootstrap.min.js\"></script>\n",
      "\n",
      "\n",
      "\n"
     ]
    }
   ],
   "source": [
    "open_website = urllib.request.urlopen(website)\n",
    "from bs4 import BeautifulSoup\n",
    "data = BeautifulSoup(open_website,\"html.parser\")\n",
    "print(data)\n"
   ]
  },
  {
   "cell_type": "code",
   "execution_count": 4,
   "metadata": {},
   "outputs": [],
   "source": [
    "div_elements=data.find_all('div')\n"
   ]
  },
  {
   "cell_type": "code",
   "execution_count": 5,
   "metadata": {},
   "outputs": [],
   "source": [
    "   f=open(\"midas_events_text\",'w', encoding='UTF-8')\n",
    "for i in range(0,len(div_elements)):\n",
    "     f.write(div_elements[i].get_text()+'\\n')\n",
    "f.close()"
   ]
  },
  {
   "cell_type": "code",
   "execution_count": 6,
   "metadata": {},
   "outputs": [],
   "source": [
    "f=open(\"midas_events_text\",'r',encoding='UTF-8')\n",
    "\n"
   ]
  },
  {
   "cell_type": "code",
   "execution_count": 7,
   "metadata": {},
   "outputs": [],
   "source": [
    "f.close()"
   ]
  },
  {
   "cell_type": "code",
   "execution_count": 9,
   "metadata": {},
   "outputs": [],
   "source": [
    "f=open(\"midas_events_text\",'r',encoding=\"UTF-8\")\n",
    "data1=f.read()\n",
    "with open(\"midas_events_json.json\",'w') as f:\n",
    "        json.dump(data1,f)\n"
   ]
  },
  {
   "cell_type": "code",
   "execution_count": null,
   "metadata": {},
   "outputs": [],
   "source": []
  },
  {
   "cell_type": "code",
   "execution_count": null,
   "metadata": {},
   "outputs": [],
   "source": []
  }
 ],
 "metadata": {
  "kernelspec": {
   "display_name": "Python 3",
   "language": "python",
   "name": "python3"
  },
  "language_info": {
   "codemirror_mode": {
    "name": "ipython",
    "version": 3
   },
   "file_extension": ".py",
   "mimetype": "text/x-python",
   "name": "python",
   "nbconvert_exporter": "python",
   "pygments_lexer": "ipython3",
   "version": "3.7.3"
  }
 },
 "nbformat": 4,
 "nbformat_minor": 2
}
